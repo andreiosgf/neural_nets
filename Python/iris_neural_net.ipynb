{
 "cells": [
  {
   "cell_type": "code",
   "execution_count": 1,
   "id": "282c342e-aa2c-4112-a80c-adaffb9d3583",
   "metadata": {},
   "outputs": [],
   "source": [
    "import tensorflow as tf\n",
    "from tensorflow.keras import layers\n",
    "import pandas as pd\n",
    "import numpy as np\n",
    "from tensorflow.keras import datasets, layers, models\n",
    "from tensorflow.keras.utils import to_categorical"
   ]
  },
  {
   "cell_type": "code",
   "execution_count": 2,
   "id": "04d35529-b765-423e-9e95-107d2918c876",
   "metadata": {},
   "outputs": [
    {
     "name": "stdout",
     "output_type": "stream",
     "text": [
      "input/iris.csv\n"
     ]
    }
   ],
   "source": [
    "dataFolder = 'input/'\n",
    "dataFile = dataFolder + \"iris.csv\"\n",
    "print(dataFile)"
   ]
  },
  {
   "cell_type": "code",
   "execution_count": 3,
   "id": "766c885b-bc52-41cc-98b3-825880412934",
   "metadata": {},
   "outputs": [
    {
     "data": {
      "text/html": [
       "<div>\n",
       "<style scoped>\n",
       "    .dataframe tbody tr th:only-of-type {\n",
       "        vertical-align: middle;\n",
       "    }\n",
       "\n",
       "    .dataframe tbody tr th {\n",
       "        vertical-align: top;\n",
       "    }\n",
       "\n",
       "    .dataframe thead th {\n",
       "        text-align: right;\n",
       "    }\n",
       "</style>\n",
       "<table border=\"1\" class=\"dataframe\">\n",
       "  <thead>\n",
       "    <tr style=\"text-align: right;\">\n",
       "      <th></th>\n",
       "      <th>sepal length (cm)</th>\n",
       "      <th>sepal width (cm)</th>\n",
       "      <th>petal length (cm)</th>\n",
       "      <th>petal width (cm)</th>\n",
       "      <th>class</th>\n",
       "    </tr>\n",
       "  </thead>\n",
       "  <tbody>\n",
       "    <tr>\n",
       "      <th>0</th>\n",
       "      <td>5.1</td>\n",
       "      <td>3.5</td>\n",
       "      <td>1.4</td>\n",
       "      <td>0.2</td>\n",
       "      <td>Iris-setosa</td>\n",
       "    </tr>\n",
       "    <tr>\n",
       "      <th>1</th>\n",
       "      <td>4.9</td>\n",
       "      <td>3.0</td>\n",
       "      <td>1.4</td>\n",
       "      <td>0.2</td>\n",
       "      <td>Iris-setosa</td>\n",
       "    </tr>\n",
       "    <tr>\n",
       "      <th>2</th>\n",
       "      <td>4.7</td>\n",
       "      <td>3.2</td>\n",
       "      <td>1.3</td>\n",
       "      <td>0.2</td>\n",
       "      <td>Iris-setosa</td>\n",
       "    </tr>\n",
       "    <tr>\n",
       "      <th>3</th>\n",
       "      <td>4.6</td>\n",
       "      <td>3.1</td>\n",
       "      <td>1.5</td>\n",
       "      <td>0.2</td>\n",
       "      <td>Iris-setosa</td>\n",
       "    </tr>\n",
       "    <tr>\n",
       "      <th>4</th>\n",
       "      <td>5.0</td>\n",
       "      <td>3.6</td>\n",
       "      <td>1.4</td>\n",
       "      <td>0.2</td>\n",
       "      <td>Iris-setosa</td>\n",
       "    </tr>\n",
       "  </tbody>\n",
       "</table>\n",
       "</div>"
      ],
      "text/plain": [
       "   sepal length (cm)   sepal width (cm)   petal length (cm)  \\\n",
       "0                5.1                3.5                 1.4   \n",
       "1                4.9                3.0                 1.4   \n",
       "2                4.7                3.2                 1.3   \n",
       "3                4.6                3.1                 1.5   \n",
       "4                5.0                3.6                 1.4   \n",
       "\n",
       "    petal width (cm)        class  \n",
       "0                0.2  Iris-setosa  \n",
       "1                0.2  Iris-setosa  \n",
       "2                0.2  Iris-setosa  \n",
       "3                0.2  Iris-setosa  \n",
       "4                0.2  Iris-setosa  "
      ]
     },
     "execution_count": 3,
     "metadata": {},
     "output_type": "execute_result"
    }
   ],
   "source": [
    "df = pd.read_csv(dataFile)\n",
    "df.head()"
   ]
  },
  {
   "cell_type": "code",
   "execution_count": 4,
   "id": "571f6981-d434-496e-8373-e6341a3494bf",
   "metadata": {},
   "outputs": [],
   "source": [
    "X = df.iloc[:,0:4].values\n",
    "y = df.iloc[:,4].values"
   ]
  },
  {
   "cell_type": "code",
   "execution_count": 5,
   "id": "7bf3bd55-af55-4804-a482-39b21c52d2e4",
   "metadata": {},
   "outputs": [
    {
     "name": "stdout",
     "output_type": "stream",
     "text": [
      "[[5.1 3.5 1.4 0.2]\n",
      " [4.9 3.  1.4 0.2]\n",
      " [4.7 3.2 1.3 0.2]\n",
      " [4.6 3.1 1.5 0.2]\n",
      " [5.  3.6 1.4 0.2]]\n",
      "['Iris-setosa' 'Iris-setosa' 'Iris-setosa' 'Iris-setosa' 'Iris-setosa']\n"
     ]
    }
   ],
   "source": [
    "print(X[0:5])\n",
    "print(y[0:5])"
   ]
  },
  {
   "cell_type": "code",
   "execution_count": 6,
   "id": "4a7aad3c-dadf-4765-97eb-1ba33432c948",
   "metadata": {},
   "outputs": [
    {
     "name": "stdout",
     "output_type": "stream",
     "text": [
      "(150, 4)\n",
      "(150,)\n"
     ]
    }
   ],
   "source": [
    "print(X.shape)\n",
    "print(y.shape)"
   ]
  },
  {
   "cell_type": "code",
   "execution_count": 7,
   "id": "b9822e73-0f78-4c8a-9edc-0a734c3ec645",
   "metadata": {},
   "outputs": [],
   "source": [
    "from sklearn.preprocessing import LabelEncoder\n",
    "encoder =  LabelEncoder()\n",
    "y1 = encoder.fit_transform(y)"
   ]
  },
  {
   "cell_type": "code",
   "execution_count": 8,
   "id": "097626a9-add3-450e-8e06-33cbf6be8aa5",
   "metadata": {},
   "outputs": [
    {
     "name": "stdout",
     "output_type": "stream",
     "text": [
      "[0 0 0 0 0 0 0 0 0 0 0 0 0 0 0 0 0 0 0 0 0 0 0 0 0 0 0 0 0 0 0 0 0 0 0 0 0\n",
      " 0 0 0 0 0 0 0 0 0 0 0 0 0 1 1 1 1 1 1 1 1 1 1 1 1 1 1 1 1 1 1 1 1 1 1 1 1\n",
      " 1 1 1 1 1 1 1 1 1 1 1 1 1 1 1 1 1 1 1 1 1 1 1 1 1 1 2 2 2 2 2 2 2 2 2 2 2\n",
      " 2 2 2 2 2 2 2 2 2 2 2 2 2 2 2 2 2 2 2 2 2 2 2 2 2 2 2 2 2 2 2 2 2 2 2 2 2\n",
      " 2 2]\n"
     ]
    }
   ],
   "source": [
    "print(y1)"
   ]
  },
  {
   "cell_type": "code",
   "execution_count": 9,
   "id": "b21f0284-5ea2-4436-9f18-583c57dabae7",
   "metadata": {},
   "outputs": [
    {
     "name": "stdout",
     "output_type": "stream",
     "text": [
      "[[1 0 0]\n",
      " [1 0 0]\n",
      " [1 0 0]\n",
      " [1 0 0]\n",
      " [1 0 0]]\n"
     ]
    }
   ],
   "source": [
    "Y = pd.get_dummies(y1).values\n",
    "print(Y[0:5])"
   ]
  },
  {
   "cell_type": "code",
   "execution_count": 10,
   "id": "a1b3458b-a5e8-4d6a-bf89-f88d2f6b1b10",
   "metadata": {},
   "outputs": [],
   "source": [
    "from sklearn.model_selection import train_test_split\n",
    "X_train, X_test, y_train, y_test = train_test_split(X, Y, test_size=0.2, random_state=0)"
   ]
  },
  {
   "cell_type": "code",
   "execution_count": 11,
   "id": "ec94074c-a192-4399-8d63-c49f8eb764ba",
   "metadata": {},
   "outputs": [
    {
     "name": "stdout",
     "output_type": "stream",
     "text": [
      "[[6.4 3.1 5.5 1.8]\n",
      " [5.4 3.  4.5 1.5]\n",
      " [5.2 3.5 1.5 0.2]\n",
      " [6.1 3.  4.9 1.8]\n",
      " [6.4 2.8 5.6 2.2]]\n"
     ]
    }
   ],
   "source": [
    "print(X_train[0:5])"
   ]
  },
  {
   "cell_type": "code",
   "execution_count": 12,
   "id": "e92b0006-7d0d-487c-ade2-1fc9fbef1b75",
   "metadata": {},
   "outputs": [
    {
     "name": "stdout",
     "output_type": "stream",
     "text": [
      "[[0 0 1]\n",
      " [0 1 0]\n",
      " [1 0 0]\n",
      " [0 0 1]\n",
      " [0 0 1]]\n"
     ]
    }
   ],
   "source": [
    "print(y_train[0:5])"
   ]
  },
  {
   "cell_type": "code",
   "execution_count": 13,
   "id": "baaf8541-0b33-4226-b5b8-45aae58e7b81",
   "metadata": {},
   "outputs": [
    {
     "name": "stdout",
     "output_type": "stream",
     "text": [
      "[[5.8 2.8 5.1 2.4]\n",
      " [6.  2.2 4.  1. ]\n",
      " [5.5 4.2 1.4 0.2]\n",
      " [7.3 2.9 6.3 1.8]\n",
      " [5.  3.4 1.5 0.2]]\n"
     ]
    }
   ],
   "source": [
    "print(X_test[0:5])"
   ]
  },
  {
   "cell_type": "code",
   "execution_count": 14,
   "id": "65645ad6-823a-47b6-b40e-69dc156eaac7",
   "metadata": {},
   "outputs": [
    {
     "name": "stdout",
     "output_type": "stream",
     "text": [
      "[[0 0 1]\n",
      " [0 1 0]\n",
      " [1 0 0]\n",
      " [0 0 1]\n",
      " [1 0 0]]\n"
     ]
    }
   ],
   "source": [
    "print(y_test[0:5])"
   ]
  },
  {
   "cell_type": "code",
   "execution_count": 15,
   "id": "0a49e05b-6fc3-427b-b1b6-4e08e40aec94",
   "metadata": {},
   "outputs": [
    {
     "data": {
      "text/plain": [
       "<keras.engine.sequential.Sequential at 0x1e7fab37130>"
      ]
     },
     "execution_count": 15,
     "metadata": {},
     "output_type": "execute_result"
    }
   ],
   "source": [
    "model = tf.keras.Sequential([\n",
    "    tf.keras.layers.Dense(10, activation='sigmoid'),\n",
    "    tf.keras.layers.Dense(10, activation='sigmoid'),\n",
    "    tf.keras.layers.Dense(3, activation='sigmoid')\n",
    "  ])\n",
    "model"
   ]
  },
  {
   "cell_type": "code",
   "execution_count": 16,
   "id": "e2dd47cf-ace5-4868-8c6d-37b4fc356aef",
   "metadata": {},
   "outputs": [],
   "source": [
    "model.compile(optimizer='rmsprop',\n",
    "              loss='categorical_crossentropy',\n",
    "              metrics=['accuracy'])"
   ]
  },
  {
   "cell_type": "code",
   "execution_count": 17,
   "id": "b8fa7767-1a5e-4d27-8d4f-baecb255de74",
   "metadata": {},
   "outputs": [
    {
     "name": "stdout",
     "output_type": "stream",
     "text": [
      "Epoch 1/100\n",
      "3/3 [==============================] - 1s 4ms/step - loss: 1.1225 - accuracy: 0.0417\n",
      "Epoch 2/100\n",
      "3/3 [==============================] - 0s 2ms/step - loss: 1.1114 - accuracy: 0.0250\n",
      "Epoch 3/100\n",
      "3/3 [==============================] - 0s 2ms/step - loss: 1.1056 - accuracy: 0.0417\n",
      "Epoch 4/100\n",
      "3/3 [==============================] - 0s 3ms/step - loss: 1.1015 - accuracy: 0.0000e+00\n",
      "Epoch 5/100\n",
      "3/3 [==============================] - 0s 2ms/step - loss: 1.0983 - accuracy: 0.0083\n",
      "Epoch 6/100\n",
      "3/3 [==============================] - 0s 2ms/step - loss: 1.0954 - accuracy: 0.0417\n",
      "Epoch 7/100\n",
      "3/3 [==============================] - 0s 2ms/step - loss: 1.0935 - accuracy: 0.3667\n",
      "Epoch 8/100\n",
      "3/3 [==============================] - 0s 3ms/step - loss: 1.0918 - accuracy: 0.4000\n",
      "Epoch 9/100\n",
      "3/3 [==============================] - 0s 3ms/step - loss: 1.0894 - accuracy: 0.3667\n",
      "Epoch 10/100\n",
      "3/3 [==============================] - 0s 2ms/step - loss: 1.0876 - accuracy: 0.3667\n",
      "Epoch 11/100\n",
      "3/3 [==============================] - 0s 3ms/step - loss: 1.0854 - accuracy: 0.3667\n",
      "Epoch 12/100\n",
      "3/3 [==============================] - 0s 2ms/step - loss: 1.0840 - accuracy: 0.3667\n",
      "Epoch 13/100\n",
      "3/3 [==============================] - 0s 3ms/step - loss: 1.0836 - accuracy: 0.3667\n",
      "Epoch 14/100\n",
      "3/3 [==============================] - 0s 2ms/step - loss: 1.0808 - accuracy: 0.3667\n",
      "Epoch 15/100\n",
      "3/3 [==============================] - 0s 2ms/step - loss: 1.0798 - accuracy: 0.3750\n",
      "Epoch 16/100\n",
      "3/3 [==============================] - 0s 3ms/step - loss: 1.0789 - accuracy: 0.4500\n",
      "Epoch 17/100\n",
      "3/3 [==============================] - 0s 2ms/step - loss: 1.0765 - accuracy: 0.6333\n",
      "Epoch 18/100\n",
      "3/3 [==============================] - 0s 2ms/step - loss: 1.0755 - accuracy: 0.6833\n",
      "Epoch 19/100\n",
      "3/3 [==============================] - 0s 2ms/step - loss: 1.0741 - accuracy: 0.5750\n",
      "Epoch 20/100\n",
      "3/3 [==============================] - 0s 2ms/step - loss: 1.0719 - accuracy: 0.5833\n",
      "Epoch 21/100\n",
      "3/3 [==============================] - 0s 2ms/step - loss: 1.0703 - accuracy: 0.5917\n",
      "Epoch 22/100\n",
      "3/3 [==============================] - 0s 2ms/step - loss: 1.0687 - accuracy: 0.4000\n",
      "Epoch 23/100\n",
      "3/3 [==============================] - 0s 3ms/step - loss: 1.0667 - accuracy: 0.6667\n",
      "Epoch 24/100\n",
      "3/3 [==============================] - 0s 3ms/step - loss: 1.0656 - accuracy: 0.6083\n",
      "Epoch 25/100\n",
      "3/3 [==============================] - 0s 3ms/step - loss: 1.0638 - accuracy: 0.4250\n",
      "Epoch 26/100\n",
      "3/3 [==============================] - 0s 2ms/step - loss: 1.0626 - accuracy: 0.3667\n",
      "Epoch 27/100\n",
      "3/3 [==============================] - 0s 2ms/step - loss: 1.0602 - accuracy: 0.3833\n",
      "Epoch 28/100\n",
      "3/3 [==============================] - 0s 2ms/step - loss: 1.0585 - accuracy: 0.3917\n",
      "Epoch 29/100\n",
      "3/3 [==============================] - 0s 2ms/step - loss: 1.0572 - accuracy: 0.5500\n",
      "Epoch 30/100\n",
      "3/3 [==============================] - 0s 2ms/step - loss: 1.0568 - accuracy: 0.3667\n",
      "Epoch 31/100\n",
      "3/3 [==============================] - 0s 2ms/step - loss: 1.0545 - accuracy: 0.3667\n",
      "Epoch 32/100\n",
      "3/3 [==============================] - 0s 2ms/step - loss: 1.0520 - accuracy: 0.3833\n",
      "Epoch 33/100\n",
      "3/3 [==============================] - 0s 3ms/step - loss: 1.0504 - accuracy: 0.3667\n",
      "Epoch 34/100\n",
      "3/3 [==============================] - 0s 2ms/step - loss: 1.0491 - accuracy: 0.3667\n",
      "Epoch 35/100\n",
      "3/3 [==============================] - 0s 3ms/step - loss: 1.0477 - accuracy: 0.3750\n",
      "Epoch 36/100\n",
      "3/3 [==============================] - 0s 2ms/step - loss: 1.0457 - accuracy: 0.5250\n",
      "Epoch 37/100\n",
      "3/3 [==============================] - 0s 2ms/step - loss: 1.0437 - accuracy: 0.5833\n",
      "Epoch 38/100\n",
      "3/3 [==============================] - 0s 3ms/step - loss: 1.0417 - accuracy: 0.6917\n",
      "Epoch 39/100\n",
      "3/3 [==============================] - 0s 2ms/step - loss: 1.0400 - accuracy: 0.6583\n",
      "Epoch 40/100\n",
      "3/3 [==============================] - 0s 2ms/step - loss: 1.0380 - accuracy: 0.5500\n",
      "Epoch 41/100\n",
      "3/3 [==============================] - 0s 2ms/step - loss: 1.0361 - accuracy: 0.6750\n",
      "Epoch 42/100\n",
      "3/3 [==============================] - 0s 2ms/step - loss: 1.0341 - accuracy: 0.6917\n",
      "Epoch 43/100\n",
      "3/3 [==============================] - 0s 3ms/step - loss: 1.0320 - accuracy: 0.6917\n",
      "Epoch 44/100\n",
      "3/3 [==============================] - 0s 3ms/step - loss: 1.0310 - accuracy: 0.6917\n",
      "Epoch 45/100\n",
      "3/3 [==============================] - 0s 3ms/step - loss: 1.0290 - accuracy: 0.5917\n",
      "Epoch 46/100\n",
      "3/3 [==============================] - 0s 2ms/step - loss: 1.0264 - accuracy: 0.6000\n",
      "Epoch 47/100\n",
      "3/3 [==============================] - 0s 2ms/step - loss: 1.0250 - accuracy: 0.6583\n",
      "Epoch 48/100\n",
      "3/3 [==============================] - 0s 3ms/step - loss: 1.0225 - accuracy: 0.5750\n",
      "Epoch 49/100\n",
      "3/3 [==============================] - 0s 3ms/step - loss: 1.0207 - accuracy: 0.6250\n",
      "Epoch 50/100\n",
      "3/3 [==============================] - 0s 3ms/step - loss: 1.0186 - accuracy: 0.6750\n",
      "Epoch 51/100\n",
      "3/3 [==============================] - 0s 2ms/step - loss: 1.0171 - accuracy: 0.6833\n",
      "Epoch 52/100\n",
      "3/3 [==============================] - 0s 2ms/step - loss: 1.0154 - accuracy: 0.6083\n",
      "Epoch 53/100\n",
      "3/3 [==============================] - 0s 2ms/step - loss: 1.0129 - accuracy: 0.5333\n",
      "Epoch 54/100\n",
      "3/3 [==============================] - 0s 3ms/step - loss: 1.0109 - accuracy: 0.6417\n",
      "Epoch 55/100\n",
      "3/3 [==============================] - 0s 3ms/step - loss: 1.0092 - accuracy: 0.5750\n",
      "Epoch 56/100\n",
      "3/3 [==============================] - 0s 2ms/step - loss: 1.0076 - accuracy: 0.6917\n",
      "Epoch 57/100\n",
      "3/3 [==============================] - 0s 2ms/step - loss: 1.0050 - accuracy: 0.6833\n",
      "Epoch 58/100\n",
      "3/3 [==============================] - 0s 2ms/step - loss: 1.0028 - accuracy: 0.6917\n",
      "Epoch 59/100\n",
      "3/3 [==============================] - 0s 2ms/step - loss: 1.0005 - accuracy: 0.6917\n",
      "Epoch 60/100\n",
      "3/3 [==============================] - 0s 2ms/step - loss: 0.9986 - accuracy: 0.6667\n",
      "Epoch 61/100\n",
      "3/3 [==============================] - 0s 3ms/step - loss: 0.9963 - accuracy: 0.6750\n",
      "Epoch 62/100\n",
      "3/3 [==============================] - 0s 2ms/step - loss: 0.9937 - accuracy: 0.6917\n",
      "Epoch 63/100\n",
      "3/3 [==============================] - 0s 2ms/step - loss: 0.9919 - accuracy: 0.6917\n",
      "Epoch 64/100\n",
      "3/3 [==============================] - 0s 2ms/step - loss: 0.9898 - accuracy: 0.6917\n",
      "Epoch 65/100\n",
      "3/3 [==============================] - 0s 2ms/step - loss: 0.9868 - accuracy: 0.6917\n",
      "Epoch 66/100\n",
      "3/3 [==============================] - 0s 2ms/step - loss: 0.9845 - accuracy: 0.6917\n",
      "Epoch 67/100\n",
      "3/3 [==============================] - 0s 2ms/step - loss: 0.9828 - accuracy: 0.6917\n",
      "Epoch 68/100\n",
      "3/3 [==============================] - 0s 2ms/step - loss: 0.9804 - accuracy: 0.6917\n",
      "Epoch 69/100\n",
      "3/3 [==============================] - 0s 3ms/step - loss: 0.9777 - accuracy: 0.6917\n",
      "Epoch 70/100\n",
      "3/3 [==============================] - 0s 2ms/step - loss: 0.9752 - accuracy: 0.6917\n",
      "Epoch 71/100\n",
      "3/3 [==============================] - 0s 3ms/step - loss: 0.9744 - accuracy: 0.6917\n",
      "Epoch 72/100\n",
      "3/3 [==============================] - 0s 3ms/step - loss: 0.9705 - accuracy: 0.6917\n",
      "Epoch 73/100\n",
      "3/3 [==============================] - 0s 2ms/step - loss: 0.9692 - accuracy: 0.6917\n",
      "Epoch 74/100\n",
      "3/3 [==============================] - 0s 3ms/step - loss: 0.9668 - accuracy: 0.6917\n",
      "Epoch 75/100\n",
      "3/3 [==============================] - 0s 2ms/step - loss: 0.9641 - accuracy: 0.6917\n",
      "Epoch 76/100\n",
      "3/3 [==============================] - 0s 2ms/step - loss: 0.9611 - accuracy: 0.6917\n",
      "Epoch 77/100\n",
      "3/3 [==============================] - 0s 3ms/step - loss: 0.9597 - accuracy: 0.6917\n",
      "Epoch 78/100\n",
      "3/3 [==============================] - 0s 2ms/step - loss: 0.9568 - accuracy: 0.6917\n",
      "Epoch 79/100\n",
      "3/3 [==============================] - 0s 3ms/step - loss: 0.9542 - accuracy: 0.6917\n",
      "Epoch 80/100\n",
      "3/3 [==============================] - 0s 2ms/step - loss: 0.9515 - accuracy: 0.6917\n",
      "Epoch 81/100\n",
      "3/3 [==============================] - 0s 2ms/step - loss: 0.9489 - accuracy: 0.6917\n",
      "Epoch 82/100\n",
      "3/3 [==============================] - 0s 2ms/step - loss: 0.9463 - accuracy: 0.6917\n",
      "Epoch 83/100\n",
      "3/3 [==============================] - 0s 4ms/step - loss: 0.9442 - accuracy: 0.6917\n",
      "Epoch 84/100\n",
      "3/3 [==============================] - 0s 2ms/step - loss: 0.9414 - accuracy: 0.6917\n",
      "Epoch 85/100\n",
      "3/3 [==============================] - 0s 3ms/step - loss: 0.9384 - accuracy: 0.6917\n",
      "Epoch 86/100\n",
      "3/3 [==============================] - 0s 2ms/step - loss: 0.9352 - accuracy: 0.6917\n",
      "Epoch 87/100\n",
      "3/3 [==============================] - 0s 2ms/step - loss: 0.9321 - accuracy: 0.6917\n",
      "Epoch 88/100\n",
      "3/3 [==============================] - 0s 3ms/step - loss: 0.9297 - accuracy: 0.6917\n",
      "Epoch 89/100\n",
      "3/3 [==============================] - 0s 3ms/step - loss: 0.9268 - accuracy: 0.6917\n",
      "Epoch 90/100\n",
      "3/3 [==============================] - 0s 2ms/step - loss: 0.9242 - accuracy: 0.6917\n",
      "Epoch 91/100\n",
      "3/3 [==============================] - 0s 2ms/step - loss: 0.9204 - accuracy: 0.6917\n",
      "Epoch 92/100\n",
      "3/3 [==============================] - 0s 2ms/step - loss: 0.9177 - accuracy: 0.6917\n",
      "Epoch 93/100\n",
      "3/3 [==============================] - 0s 2ms/step - loss: 0.9146 - accuracy: 0.6917\n",
      "Epoch 94/100\n",
      "3/3 [==============================] - 0s 3ms/step - loss: 0.9111 - accuracy: 0.6917\n",
      "Epoch 95/100\n",
      "3/3 [==============================] - 0s 2ms/step - loss: 0.9086 - accuracy: 0.6917\n",
      "Epoch 96/100\n",
      "3/3 [==============================] - 0s 3ms/step - loss: 0.9042 - accuracy: 0.6917\n",
      "Epoch 97/100\n",
      "3/3 [==============================] - 0s 2ms/step - loss: 0.9012 - accuracy: 0.6917\n",
      "Epoch 98/100\n",
      "3/3 [==============================] - 0s 3ms/step - loss: 0.8979 - accuracy: 0.6917\n",
      "Epoch 99/100\n",
      "3/3 [==============================] - 0s 2ms/step - loss: 0.8945 - accuracy: 0.6917\n",
      "Epoch 100/100\n",
      "3/3 [==============================] - 0s 4ms/step - loss: 0.8920 - accuracy: 0.6917\n"
     ]
    },
    {
     "data": {
      "text/plain": [
       "<keras.callbacks.History at 0x1e7fbe3b640>"
      ]
     },
     "execution_count": 17,
     "metadata": {},
     "output_type": "execute_result"
    }
   ],
   "source": [
    "model.fit(X_train, y_train, batch_size=50, epochs=100)\n"
   ]
  },
  {
   "cell_type": "code",
   "execution_count": 18,
   "id": "7b62cddb-572f-4d99-8df2-64c5c20a16a1",
   "metadata": {},
   "outputs": [
    {
     "name": "stdout",
     "output_type": "stream",
     "text": [
      "Test loss: 0.9385626912117004\n",
      "Test accuracy: 0.5666666626930237\n"
     ]
    }
   ],
   "source": [
    "loss, accuracy = model.evaluate(X_test, y_test, verbose=0)\n",
    "print('Test loss:', loss)\n",
    "print('Test accuracy:', accuracy)"
   ]
  },
  {
   "cell_type": "code",
   "execution_count": 19,
   "id": "4460f551-50da-45ae-b127-9134c160e8b3",
   "metadata": {},
   "outputs": [
    {
     "name": "stdout",
     "output_type": "stream",
     "text": [
      "1/1 [==============================] - 0s 170ms/step\n"
     ]
    },
    {
     "data": {
      "text/plain": [
       "array([[0.46898198, 0.48630634, 0.63611573],\n",
       "       [0.5404116 , 0.54841155, 0.5644875 ],\n",
       "       [0.68299   , 0.6108615 , 0.44877136],\n",
       "       [0.46694887, 0.50197506, 0.6253562 ],\n",
       "       [0.6732965 , 0.607275  , 0.45700264],\n",
       "       [0.4566115 , 0.47885415, 0.6462766 ],\n",
       "       [0.6768023 , 0.6072052 , 0.45505148],\n",
       "       [0.5201994 , 0.52950615, 0.5846566 ],\n",
       "       [0.51626885, 0.5321534 , 0.5849998 ],\n",
       "       [0.5420453 , 0.5409659 , 0.56752527],\n",
       "       [0.47739822, 0.50607246, 0.61930144],\n",
       "       [0.52498436, 0.52851766, 0.5830547 ],\n",
       "       [0.5141941 , 0.5277627 , 0.5890199 ],\n",
       "       [0.51594937, 0.52814347, 0.58781034],\n",
       "       [0.5094391 , 0.5217158 , 0.5949995 ],\n",
       "       [0.67820656, 0.6087594 , 0.45345658],\n",
       "       [0.5127674 , 0.5212843 , 0.5937878 ],\n",
       "       [0.5132717 , 0.5237342 , 0.5925135 ],\n",
       "       [0.6694001 , 0.60525805, 0.4607619 ],\n",
       "       [0.6794914 , 0.6079218 , 0.4526402 ],\n",
       "       [0.47949687, 0.49491572, 0.6260677 ],\n",
       "       [0.5076978 , 0.51435304, 0.60072386],\n",
       "       [0.65901184, 0.5978156 , 0.47103813],\n",
       "       [0.66698354, 0.60238636, 0.46438614],\n",
       "       [0.49469465, 0.5102776 , 0.60898846],\n",
       "       [0.6832267 , 0.6077237 , 0.45168713],\n",
       "       [0.66072917, 0.59548014, 0.47104016],\n",
       "       [0.53166157, 0.5356361 , 0.575725  ],\n",
       "       [0.556083  , 0.54654926, 0.558173  ],\n",
       "       [0.6658363 , 0.6007159 , 0.4651837 ]], dtype=float32)"
      ]
     },
     "execution_count": 19,
     "metadata": {},
     "output_type": "execute_result"
    }
   ],
   "source": [
    "y_pred = model.predict(X_test)\n",
    "y_pred"
   ]
  },
  {
   "cell_type": "code",
   "execution_count": 20,
   "id": "7443d371-157d-43c7-b9a0-103c7003edd4",
   "metadata": {},
   "outputs": [
    {
     "name": "stdout",
     "output_type": "stream",
     "text": [
      "Actual: [2 1 0 2 0 2 0 1 1 1 2 1 1 1 1 0 1 1 0 0 2 1 0 0 2 0 0 1 1 0]\n",
      "Predicted: [2 2 0 2 0 2 0 2 2 2 2 2 2 2 2 0 2 2 0 0 2 2 0 0 2 0 0 2 2 0]\n"
     ]
    }
   ],
   "source": [
    "actual = np.argmax(y_test,axis=1)\n",
    "predicted = np.argmax(y_pred,axis=1)\n",
    "print(f\"Actual: {actual}\")\n",
    "print(f\"Predicted: {predicted}\")"
   ]
  },
  {
   "cell_type": "code",
   "execution_count": null,
   "id": "5f81241f-2c40-4a89-96c1-b89d1b2a5bd6",
   "metadata": {},
   "outputs": [],
   "source": []
  }
 ],
 "metadata": {
  "kernelspec": {
   "display_name": "Python 3 (ipykernel)",
   "language": "python",
   "name": "python3"
  },
  "language_info": {
   "codemirror_mode": {
    "name": "ipython",
    "version": 3
   },
   "file_extension": ".py",
   "mimetype": "text/x-python",
   "name": "python",
   "nbconvert_exporter": "python",
   "pygments_lexer": "ipython3",
   "version": "3.9.12"
  }
 },
 "nbformat": 4,
 "nbformat_minor": 5
}
