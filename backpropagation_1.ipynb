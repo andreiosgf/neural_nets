{
 "cells": [
  {
   "cell_type": "markdown",
   "id": "57cab5af-dc58-41ed-ac0c-d0ed9c2901bd",
   "metadata": {},
   "source": [
    "Full example available [here](https://subscription.packtpub.com/book/data/9781800208865/2/ch02lvl1sec15/implementing-backpropagation)"
   ]
  },
  {
   "cell_type": "code",
   "execution_count": 1,
   "id": "5a9f3ad7-27c5-4c2d-b237-d9f8afeac29e",
   "metadata": {},
   "outputs": [],
   "source": [
    "import numpy as np \n",
    "import tensorflow as tf #Work wit Tensor Flow 2\n",
    "import matplotlib.pyplot as plt"
   ]
  },
  {
   "cell_type": "code",
   "execution_count": 2,
   "id": "ba5f282b-2be0-4041-bd9a-9618cc99a039",
   "metadata": {},
   "outputs": [
    {
     "data": {
      "image/png": "[encoded data removed]",
      "text/plain": [
       "<Figure size 432x288 with 1 Axes>"
      ]
     },
     "metadata": {
      "needs_background": "light"
     },
     "output_type": "display_data"
    }
   ],
   "source": [
    "np.random.seed(0)#Set random seeds\n",
    "x_vals = np.random.normal(1, 0.1, 100).astype(np.float32) #Create syntetic data\n",
    "y_vals = (x_vals * (np.random.normal(1, 0.05, 100) - 0.5)).astype(np.float32)\n",
    "plt.scatter(x_vals, y_vals)#Plot the data\n",
    "plt.show()"
   ]
  },
  {
   "cell_type": "code",
   "execution_count": 3,
   "id": "99c02310-8f5a-4feb-816b-fbcc2c9bd816",
   "metadata": {},
   "outputs": [],
   "source": [
    "#Create a function to perform the weighted sum of values and biases.\n",
    "def my_output(X, weights, biases):\n",
    "    return tf.add(tf.multiply(X, weights), biases)"
   ]
  },
  {
   "cell_type": "code",
   "execution_count": 4,
   "id": "f0210b6f-9ff5-4cc9-b494-e36dfe184019",
   "metadata": {},
   "outputs": [],
   "source": [
    "#Calculate loss\n",
    "def loss_func(y_true, y_pred):\n",
    "    return tf.reduce_mean(tf.square(y_pred - y_true))"
   ]
  },
  {
   "cell_type": "code",
   "execution_count": 5,
   "id": "df5f73cd-d6b9-4a17-aeae-6938d78989b6",
   "metadata": {},
   "outputs": [],
   "source": [
    "#Use a learning algorithm Stochastic Gradient Descent\n",
    "my_opt = tf.optimizers.legacy.SGD(learning_rate=0.02)"
   ]
  },
  {
   "cell_type": "code",
   "execution_count": 6,
   "id": "64ea7276-8b99-4cc7-960f-c639e84a1f33",
   "metadata": {},
   "outputs": [],
   "source": [
    "#Initialize weights and variables with random values\n",
    "tf.random.set_seed(1)\n",
    "np.random.seed(0)\n",
    "weights = tf.Variable(tf.random.normal(shape=[1])) \n",
    "biases = tf.Variable(tf.random.normal(shape=[1])) \n",
    "history = list()\n"
   ]
  },
  {
   "cell_type": "code",
   "execution_count": 17,
   "id": "bc210874-e54c-4767-b71b-869863d0883a",
   "metadata": {},
   "outputs": [
    {
     "name": "stdout",
     "output_type": "stream",
     "text": [
      "Step # 25 Weights: [1.4957254] Biases: [0.1448258]\n",
      "Loss = 0.011109568178653717\n",
      "C = [170.26578]\n",
      "Step # 50 Weights: [1.5243487] Biases: [0.1352461]\n",
      "Loss = 0.0012877383269369602\n",
      "C = [265.16476]\n",
      "Step # 75 Weights: [1.5525385] Biases: [0.12658621]\n",
      "Loss = 0.04998167231678963\n",
      "C = [374.1044]\n",
      "Step # 100 Weights: [1.5855882] Biases: [0.11392551]\n",
      "Loss = 0.14755862951278687\n",
      "C = [466.44]\n"
     ]
    }
   ],
   "source": [
    "#Train the model with all the data, write to output the each 25 points.\n",
    "for i in range(100): \n",
    "    rand_index = np.random.choice(100) \n",
    "    rand_x = [x_vals[rand_index]] \n",
    "    rand_y = [y_vals[rand_index]]\n",
    "    with tf.GradientTape() as tape:\n",
    "        predictions = my_output(rand_x, weights, biases)\n",
    "        loss = loss_func(rand_y, predictions)        \n",
    "    history.append(loss.numpy())\n",
    "    gradients = tape.gradient(loss, [weights, biases])\n",
    "    my_opt.apply_gradients(zip(gradients, [weights, biases]))\n",
    "    if (i + 1) % 25 == 0: \n",
    "        print(f'Step # {i+1} Weights: {weights.numpy()} Biases: {biases.numpy()}')\n",
    "        print(f'Loss = {loss.numpy()}')         "
   ]
  },
  {
   "cell_type": "code",
   "execution_count": 8,
   "id": "6a8023d4-10cf-40ff-94b5-42410cb47995",
   "metadata": {},
   "outputs": [
    {
     "data": {
      "image/png": "[encoded data removed]",
      "text/plain": [
       "<Figure size 432x288 with 1 Axes>"
      ]
     },
     "metadata": {
      "needs_background": "light"
     },
     "output_type": "display_data"
    }
   ],
   "source": [
    "#Plot the loss\n",
    "plt.plot(history)\n",
    "plt.xlabel('iterations')\n",
    "plt.ylabel('loss')\n",
    "plt.show()"
   ]
  },
  {
   "cell_type": "code",
   "execution_count": 9,
   "id": "a6b2b1c0-e503-4783-abc9-343a1dabdbf9",
   "metadata": {},
   "outputs": [
    {
     "data": {
      "image/png": "[encoded data removed]",
      "text/plain": [
       "<Figure size 432x288 with 1 Axes>"
      ]
     },
     "metadata": {
      "needs_background": "light"
     },
     "output_type": "display_data"
    }
   ],
   "source": [
    "#Create 100 test values \n",
    "np.random.seed(0)\n",
    "x_vals = np.concatenate((np.random.normal(-3, 1, 50), \n",
    "                         np.random.normal(3, 1, 50))\n",
    "                    ).astype(np.float32) \n",
    "y_vals = np.concatenate((np.repeat(0., 50), np.repeat(1., 50))).astype(np.float32) \n",
    "plt.hist(x_vals[y_vals==1], color='b')\n",
    "plt.hist(x_vals[y_vals==0], color='r')\n",
    "plt.show()"
   ]
  },
  {
   "cell_type": "code",
   "execution_count": 10,
   "id": "1ce300fc-b9e9-406b-a185-90f7a42ddb7f",
   "metadata": {},
   "outputs": [],
   "source": [
    "#New loss function\n",
    "def loss_func(y_true, y_pred):\n",
    "    return tf.reduce_mean(\n",
    "        tf.nn.sigmoid_cross_entropy_with_logits(labels=y_true,logits=y_pred))"
   ]
  },
  {
   "cell_type": "code",
   "execution_count": 11,
   "id": "087f5f30-8cf0-47f4-a42f-399bcf3bfe6d",
   "metadata": {},
   "outputs": [],
   "source": [
    "#Initialize random values\n",
    "tf.random.set_seed(1)\n",
    "np.random.seed(0)\n",
    "weights = tf.Variable(tf.random.normal(shape=[1])) \n",
    "biases = tf.Variable(tf.random.normal(shape=[1])) \n",
    "history = list()"
   ]
  },
  {
   "cell_type": "code",
   "execution_count": 14,
   "id": "3c3e4f3f-eb30-4142-8367-5d7f55adcca7",
   "metadata": {},
   "outputs": [
    {
     "name": "stdout",
     "output_type": "stream",
     "text": [
      "Step 25 Weights: [0.9467814] Biases: [0.2743145]\n",
      "Loss = 0.03775952383875847\n",
      "Errors = [9.349814]\n",
      "Step 50 Weights: [1.0293905] Biases: [0.2582258]\n",
      "Loss = 0.023502428084611893\n",
      "Errors = [9.745389]\n",
      "Step 75 Weights: [1.0953044] Biases: [0.23995903]\n",
      "Loss = 0.1629609316587448\n",
      "Errors = [23.756622]\n",
      "Step 100 Weights: [1.1610403] Biases: [0.2251443]\n",
      "Loss = 0.002713616704568267\n",
      "Errors = [11.535692]\n"
     ]
    }
   ],
   "source": [
    "#Main loop for testing values\n",
    "errors=0\n",
    "for i in range(100):    \n",
    "    rand_index = np.random.choice(100) \n",
    "    rand_x = [x_vals[rand_index]] \n",
    "    rand_y = [y_vals[rand_index]]\n",
    "    with tf.GradientTape() as tape:\n",
    "        predictions = my_output(rand_x, weights, biases)\n",
    "        loss = loss_func(rand_y, predictions)        \n",
    "    history.append(loss.numpy())\n",
    "    gradients = tape.gradient(loss, [weights, biases])\n",
    "    my_opt.apply_gradients(zip(gradients, [weights, biases]))\n",
    "    if (i + 1) % 25 == 0: \n",
    "        print(f'Step {i+1} Weights: {weights.numpy()} Biases: {biases.numpy()}')\n",
    "        print(f'Loss = {loss.numpy()}')        "
   ]
  },
  {
   "cell_type": "code",
   "execution_count": 13,
   "id": "c6ffb032-24b8-46dd-8a8b-349c60509708",
   "metadata": {},
   "outputs": [
    {
     "data": {
      "image/png": "[encoded data removed]",
      "text/plain": [
       "<Figure size 432x288 with 1 Axes>"
      ]
     },
     "metadata": {
      "needs_background": "light"
     },
     "output_type": "display_data"
    }
   ],
   "source": [
    "#Plot loss\n",
    "plt.plot(history)\n",
    "plt.xlabel('iterations')\n",
    "plt.ylabel('loss')\n",
    "plt.show()"
   ]
  }
 ],
 "metadata": {
  "kernelspec": {
   "display_name": "Python 3 (ipykernel)",
   "language": "python",
   "name": "python3"
  },
  "language_info": {
   "codemirror_mode": {
    "name": "ipython",
    "version": 3
   },
   "file_extension": ".py",
   "mimetype": "text/x-python",
   "name": "python",
   "nbconvert_exporter": "python",
   "pygments_lexer": "ipython3",
   "version": "3.9.12"
  }
 },
 "nbformat": 4,
 "nbformat_minor": 5
}
